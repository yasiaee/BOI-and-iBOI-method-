{
 "cells": [
  {
   "cell_type": "code",
   "execution_count": null,
   "id": "58044b9d-77c2-4a4f-a709-f764beeb9022",
   "metadata": {},
   "outputs": [],
   "source": []
  }
 ],
 "metadata": {
  "kernelspec": {
   "display_name": "",
   "name": ""
  },
  "language_info": {
   "name": ""
  }
 },
 "nbformat": 4,
 "nbformat_minor": 5
}
